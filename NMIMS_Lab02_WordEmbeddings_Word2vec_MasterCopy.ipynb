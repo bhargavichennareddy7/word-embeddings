{
  "nbformat": 4,
  "nbformat_minor": 0,
  "metadata": {
    "colab": {
      "provenance": [],
      "gpuType": "T4"
    },
    "kernelspec": {
      "name": "python3",
      "display_name": "Python 3"
    },
    "language_info": {
      "name": "python"
    },
    "accelerator": "GPU"
  },
  "cells": [
    {
      "cell_type": "code",
      "execution_count": 1,
      "metadata": {
        "id": "4ityi4aH8Eqw"
      },
      "outputs": [],
      "source": [
        "import pandas as pd\n",
        "import numpy as np\n",
        "import gensim\n",
        "import nltk\n",
        "import re\n",
        "from nltk.corpus import stopwords\n",
        "from nltk.tokenize import word_tokenize,sent_tokenize\n",
        "from gensim.models import Word2Vec\n",
        "import os"
      ]
    },
    {
      "cell_type": "code",
      "source": [
        "from sklearn.datasets import fetch_20newsgroups\n",
        "\n",
        "categories = [\n",
        "    'talk.religion.misc',\n",
        "    'comp.graphics',\n",
        "    'sci.space',\n",
        "]\n",
        "\n",
        "print(\"Loading 20 newsgroups dataset for categories:\")\n",
        "print(categories)"
      ],
      "metadata": {
        "colab": {
          "base_uri": "https://localhost:8080/"
        },
        "id": "hCSGFO-eQGnq",
        "outputId": "eef80a35-bbdf-4b39-b745-3fb21b14de00"
      },
      "execution_count": 3,
      "outputs": [
        {
          "output_type": "stream",
          "name": "stdout",
          "text": [
            "Loading 20 newsgroups dataset for categories:\n",
            "['talk.religion.misc', 'comp.graphics', 'sci.space']\n"
          ]
        }
      ]
    },
    {
      "cell_type": "code",
      "source": [
        "df = fetch_20newsgroups(subset='all', categories=categories,\n",
        "                             shuffle=False, remove=('headers', 'footers', 'quotes'))\n",
        "labels = df.target\n",
        "true_k = len(np.unique(labels)) ## This should be 3 in this example\n",
        "print(true_k)"
      ],
      "metadata": {
        "colab": {
          "base_uri": "https://localhost:8080/"
        },
        "id": "Ar0RiWqCQQbP",
        "outputId": "777aa8d6-cd2c-4cea-f141-caf697d2a733"
      },
      "execution_count": 4,
      "outputs": [
        {
          "output_type": "stream",
          "name": "stdout",
          "text": [
            "3\n"
          ]
        }
      ]
    },
    {
      "cell_type": "code",
      "source": [
        "labels.size"
      ],
      "metadata": {
        "colab": {
          "base_uri": "https://localhost:8080/"
        },
        "id": "YhTAVQur-Hs8",
        "outputId": "27fb5229-e0c8-4f77-8680-8e8b5656a6f9"
      },
      "execution_count": 5,
      "outputs": [
        {
          "output_type": "execute_result",
          "data": {
            "text/plain": [
              "2588"
            ]
          },
          "metadata": {},
          "execution_count": 5
        }
      ]
    },
    {
      "cell_type": "code",
      "source": [
        "df.target[1]"
      ],
      "metadata": {
        "colab": {
          "base_uri": "https://localhost:8080/"
        },
        "id": "r_RckI7JQg92",
        "outputId": "402da186-7387-4869-c3e0-b44d98813d9e"
      },
      "execution_count": 6,
      "outputs": [
        {
          "output_type": "execute_result",
          "data": {
            "text/plain": [
              "0"
            ]
          },
          "metadata": {},
          "execution_count": 6
        }
      ]
    },
    {
      "cell_type": "code",
      "source": [
        "len(df.data)"
      ],
      "metadata": {
        "colab": {
          "base_uri": "https://localhost:8080/"
        },
        "id": "6ru603XFQoS4",
        "outputId": "a1594e00-397d-4470-e00c-a167b6b618dc"
      },
      "execution_count": 7,
      "outputs": [
        {
          "output_type": "execute_result",
          "data": {
            "text/plain": [
              "2588"
            ]
          },
          "metadata": {},
          "execution_count": 7
        }
      ]
    },
    {
      "cell_type": "code",
      "source": [
        "data=[]\n",
        "for text in df.data:\n",
        "  data.append(text)"
      ],
      "metadata": {
        "id": "l_UuGCPGQ0Lr"
      },
      "execution_count": 8,
      "outputs": []
    },
    {
      "cell_type": "code",
      "source": [
        "data[0]"
      ],
      "metadata": {
        "colab": {
          "base_uri": "https://localhost:8080/",
          "height": 70
        },
        "id": "61SNMVuKQ_hd",
        "outputId": "20de24dd-41d4-476d-adb3-e16862564999"
      },
      "execution_count": 9,
      "outputs": [
        {
          "output_type": "execute_result",
          "data": {
            "text/plain": [
              "'\\n\\nI think I can. Largely as a result of efforts by people reading this group\\nwriting letters and making phone calls the following has happened:\\n\\n1. NASA reprogrammed funds to keep NASP alive in 1991.\\n2. Efforts to kill DC-X and the SSRT progam where twice twarted\\n   (Feb. and June of last year).\\n3. Gouldin kept his job in spite of heavy lobbying against him.\\n\\nThis may not be what Mark was thinking of but it shows that the\\nreaders of sci.space DO have power and influence.\\n\\n  Allen\\n'"
            ],
            "application/vnd.google.colaboratory.intrinsic+json": {
              "type": "string"
            }
          },
          "metadata": {},
          "execution_count": 9
        }
      ]
    },
    {
      "cell_type": "code",
      "source": [
        "new=[]\n",
        "for i in data:\n",
        "  i=re.sub('[\\s+\\d+:\\.\\)\\( ]',' ',i) #'\\.' spaces, numbers, colon, paranthesis, full stop rmoval\n",
        "  i=re.sub(r'\\S*@\\S*\\s?','',i)  # Email removal\n",
        "  new.append(i)\n",
        "\n",
        "new[0:3]\n"
      ],
      "metadata": {
        "colab": {
          "base_uri": "https://localhost:8080/"
        },
        "id": "vzv66CZrRCYU",
        "outputId": "6388c395-860b-4872-b337-a4de580d722f"
      },
      "execution_count": 10,
      "outputs": [
        {
          "output_type": "execute_result",
          "data": {
            "text/plain": [
              "['  I think I can  Largely as a result of efforts by people reading this group writing letters and making phone calls the following has happened      NASA reprogrammed funds to keep NASP alive in          Efforts to kill DC-X and the SSRT progam where twice twarted     Feb  and June of last year      Gouldin kept his job in spite of heavy lobbying against him   This may not be what Mark was thinking of but it shows that the readers of sci space DO have power and influence     Allen ',\n",
              " 'In regards to fractal commpression, I have seen   fractal compressed \"movies\"  They were both fairly impressive   The first one was a    gray scale \"movie\" of Casablanca, it was    MB and had    minutes of    fps video   It was a little grainy but not bad at all   The second one I saw was only   minutes but it had   bit color with   fps and measured in at    MB   I consider the fractal movies a practical thing to explore   But unlike many  other formats out there, you do end up losing resolution   I don\\'t know what kind of software/hardware was used for creating the \"movies\" I saw but the guy that showed them to me said it took  -   minutes per frame to generate   But as I said above playback was    or more frames per second   And how else could you put    minutes on one floppy disk?',\n",
              " 'Background  The Orion spacedrive was a theoretical concept   It would be a drive using thermonuclear explosions to drive a spacecraft  The idea was that you\\'d detonate devices with somewhere from one to ten megatons yield behind a \"pusher plate\" attached to the main spacecraft   The shock wave from the explosions would transfer momentum to the ship     Now, in an atmosphere I can see this   The energy of the explosion heats the atmosphere, which expands explosively and slams a shock wave into the pusher plate   But in a vacuum, only two things I can see are going to hit the plate  fission/fusion products  barium, krypton, helium, neutrons, evaporated bomb casing  and electromagnetic radiation  gammas mostly, some light/heat from irradiated fission products      Would this work?  I can\\'t see the EM radiation impelling very much momentum  especially given the mass of the pusher plate , and it seems to me you\\'re going to get more momentum transfer throwing the bombs out the back of the ship than you get from detonating them once they\\'re there     I must be missing something   Would someone enlighten me via email?    Thanks   --   --Jim ']"
            ]
          },
          "metadata": {},
          "execution_count": 10
        }
      ]
    },
    {
      "cell_type": "code",
      "source": [
        "nltk.download('punkt')"
      ],
      "metadata": {
        "colab": {
          "base_uri": "https://localhost:8080/"
        },
        "id": "aINrss1idyDD",
        "outputId": "4be10b46-2e16-496b-8449-51f8301af5dc"
      },
      "execution_count": 11,
      "outputs": [
        {
          "output_type": "stream",
          "name": "stderr",
          "text": [
            "[nltk_data] Downloading package punkt to /root/nltk_data...\n",
            "[nltk_data]   Unzipping tokenizers/punkt.zip.\n"
          ]
        },
        {
          "output_type": "execute_result",
          "data": {
            "text/plain": [
              "True"
            ]
          },
          "metadata": {},
          "execution_count": 11
        }
      ]
    },
    {
      "cell_type": "code",
      "source": [
        "import nltk\n",
        "nltk.download('punkt_tab')\n",
        "tokens=[]\n",
        "for text in new:\n",
        "  text= re.sub(r'\\s+',' ',text.lower())\n",
        "  tokens.append(word_tokenize(text))\n"
      ],
      "metadata": {
        "id": "N0M-TFvNbPB0",
        "outputId": "2b8a68d6-3c24-4c8d-b52e-3df703af7b0f",
        "colab": {
          "base_uri": "https://localhost:8080/"
        }
      },
      "execution_count": 12,
      "outputs": [
        {
          "output_type": "stream",
          "name": "stderr",
          "text": [
            "[nltk_data] Downloading package punkt_tab to /root/nltk_data...\n",
            "[nltk_data]   Unzipping tokenizers/punkt_tab.zip.\n"
          ]
        }
      ]
    },
    {
      "cell_type": "code",
      "source": [
        "tokens[0:2]"
      ],
      "metadata": {
        "colab": {
          "base_uri": "https://localhost:8080/"
        },
        "id": "ZvkMLi49qTkd",
        "outputId": "02b6e9db-59f7-4fba-a7cb-2b8c638d0944",
        "collapsed": true
      },
      "execution_count": 13,
      "outputs": [
        {
          "output_type": "execute_result",
          "data": {
            "text/plain": [
              "[['i',\n",
              "  'think',\n",
              "  'i',\n",
              "  'can',\n",
              "  'largely',\n",
              "  'as',\n",
              "  'a',\n",
              "  'result',\n",
              "  'of',\n",
              "  'efforts',\n",
              "  'by',\n",
              "  'people',\n",
              "  'reading',\n",
              "  'this',\n",
              "  'group',\n",
              "  'writing',\n",
              "  'letters',\n",
              "  'and',\n",
              "  'making',\n",
              "  'phone',\n",
              "  'calls',\n",
              "  'the',\n",
              "  'following',\n",
              "  'has',\n",
              "  'happened',\n",
              "  'nasa',\n",
              "  'reprogrammed',\n",
              "  'funds',\n",
              "  'to',\n",
              "  'keep',\n",
              "  'nasp',\n",
              "  'alive',\n",
              "  'in',\n",
              "  'efforts',\n",
              "  'to',\n",
              "  'kill',\n",
              "  'dc-x',\n",
              "  'and',\n",
              "  'the',\n",
              "  'ssrt',\n",
              "  'progam',\n",
              "  'where',\n",
              "  'twice',\n",
              "  'twarted',\n",
              "  'feb',\n",
              "  'and',\n",
              "  'june',\n",
              "  'of',\n",
              "  'last',\n",
              "  'year',\n",
              "  'gouldin',\n",
              "  'kept',\n",
              "  'his',\n",
              "  'job',\n",
              "  'in',\n",
              "  'spite',\n",
              "  'of',\n",
              "  'heavy',\n",
              "  'lobbying',\n",
              "  'against',\n",
              "  'him',\n",
              "  'this',\n",
              "  'may',\n",
              "  'not',\n",
              "  'be',\n",
              "  'what',\n",
              "  'mark',\n",
              "  'was',\n",
              "  'thinking',\n",
              "  'of',\n",
              "  'but',\n",
              "  'it',\n",
              "  'shows',\n",
              "  'that',\n",
              "  'the',\n",
              "  'readers',\n",
              "  'of',\n",
              "  'sci',\n",
              "  'space',\n",
              "  'do',\n",
              "  'have',\n",
              "  'power',\n",
              "  'and',\n",
              "  'influence',\n",
              "  'allen'],\n",
              " ['in',\n",
              "  'regards',\n",
              "  'to',\n",
              "  'fractal',\n",
              "  'commpression',\n",
              "  ',',\n",
              "  'i',\n",
              "  'have',\n",
              "  'seen',\n",
              "  'fractal',\n",
              "  'compressed',\n",
              "  '``',\n",
              "  'movies',\n",
              "  \"''\",\n",
              "  'they',\n",
              "  'were',\n",
              "  'both',\n",
              "  'fairly',\n",
              "  'impressive',\n",
              "  'the',\n",
              "  'first',\n",
              "  'one',\n",
              "  'was',\n",
              "  'a',\n",
              "  'gray',\n",
              "  'scale',\n",
              "  '``',\n",
              "  'movie',\n",
              "  \"''\",\n",
              "  'of',\n",
              "  'casablanca',\n",
              "  ',',\n",
              "  'it',\n",
              "  'was',\n",
              "  'mb',\n",
              "  'and',\n",
              "  'had',\n",
              "  'minutes',\n",
              "  'of',\n",
              "  'fps',\n",
              "  'video',\n",
              "  'it',\n",
              "  'was',\n",
              "  'a',\n",
              "  'little',\n",
              "  'grainy',\n",
              "  'but',\n",
              "  'not',\n",
              "  'bad',\n",
              "  'at',\n",
              "  'all',\n",
              "  'the',\n",
              "  'second',\n",
              "  'one',\n",
              "  'i',\n",
              "  'saw',\n",
              "  'was',\n",
              "  'only',\n",
              "  'minutes',\n",
              "  'but',\n",
              "  'it',\n",
              "  'had',\n",
              "  'bit',\n",
              "  'color',\n",
              "  'with',\n",
              "  'fps',\n",
              "  'and',\n",
              "  'measured',\n",
              "  'in',\n",
              "  'at',\n",
              "  'mb',\n",
              "  'i',\n",
              "  'consider',\n",
              "  'the',\n",
              "  'fractal',\n",
              "  'movies',\n",
              "  'a',\n",
              "  'practical',\n",
              "  'thing',\n",
              "  'to',\n",
              "  'explore',\n",
              "  'but',\n",
              "  'unlike',\n",
              "  'many',\n",
              "  'other',\n",
              "  'formats',\n",
              "  'out',\n",
              "  'there',\n",
              "  ',',\n",
              "  'you',\n",
              "  'do',\n",
              "  'end',\n",
              "  'up',\n",
              "  'losing',\n",
              "  'resolution',\n",
              "  'i',\n",
              "  'do',\n",
              "  \"n't\",\n",
              "  'know',\n",
              "  'what',\n",
              "  'kind',\n",
              "  'of',\n",
              "  'software/hardware',\n",
              "  'was',\n",
              "  'used',\n",
              "  'for',\n",
              "  'creating',\n",
              "  'the',\n",
              "  '``',\n",
              "  'movies',\n",
              "  \"''\",\n",
              "  'i',\n",
              "  'saw',\n",
              "  'but',\n",
              "  'the',\n",
              "  'guy',\n",
              "  'that',\n",
              "  'showed',\n",
              "  'them',\n",
              "  'to',\n",
              "  'me',\n",
              "  'said',\n",
              "  'it',\n",
              "  'took',\n",
              "  '-',\n",
              "  'minutes',\n",
              "  'per',\n",
              "  'frame',\n",
              "  'to',\n",
              "  'generate',\n",
              "  'but',\n",
              "  'as',\n",
              "  'i',\n",
              "  'said',\n",
              "  'above',\n",
              "  'playback',\n",
              "  'was',\n",
              "  'or',\n",
              "  'more',\n",
              "  'frames',\n",
              "  'per',\n",
              "  'second',\n",
              "  'and',\n",
              "  'how',\n",
              "  'else',\n",
              "  'could',\n",
              "  'you',\n",
              "  'put',\n",
              "  'minutes',\n",
              "  'on',\n",
              "  'one',\n",
              "  'floppy',\n",
              "  'disk',\n",
              "  '?']]"
            ]
          },
          "metadata": {},
          "execution_count": 13
        }
      ]
    },
    {
      "cell_type": "markdown",
      "source": [
        "Parameter Explanation:\n",
        "\n",
        "tokens: The input tokenized sentences (list of lists of words).\n",
        "\n",
        "size=50: Each word will be represented as a 50-dimensional vector.\n",
        "\n",
        "window=5: The context window size (words within 5 positions before/after the target word are considered).\n",
        "\n",
        "sg=1: Use Skip-Gram (instead of CBOW, which is sg=0).\n",
        "\n",
        "hs=0: Use negative sampling instead of hierarchical softmax.\n",
        "\n",
        "iter=10: Train the model for 10 iterations over the corpus."
      ],
      "metadata": {
        "id": "w5FKFwuNVnLk"
      }
    },
    {
      "cell_type": "code",
      "source": [
        "from gensim.models import Word2Vec\n",
        "Gensim_model=Word2Vec(tokens,vector_size=50,window=5,sg=1,hs=0, epochs=10 )"
      ],
      "metadata": {
        "id": "1FFSMBv_qW8m"
      },
      "execution_count": null,
      "outputs": []
    },
    {
      "cell_type": "code",
      "source": [
        "w1='software'\n",
        "Gensim_model.wv.most_similar(positive=w1,topn=4)"
      ],
      "metadata": {
        "id": "HrNkAG8ytsAX"
      },
      "execution_count": null,
      "outputs": []
    },
    {
      "cell_type": "code",
      "source": [
        "w1='science'\n",
        "Gensim_model.wv.most_similar(positive=w1,topn=4)"
      ],
      "metadata": {
        "colab": {
          "base_uri": "https://localhost:8080/"
        },
        "id": "B0aj8Sj5uJpD",
        "outputId": "37e5d42f-3231-450e-d39d-a3e1843f3942"
      },
      "execution_count": null,
      "outputs": [
        {
          "output_type": "execute_result",
          "data": {
            "text/plain": [
              "[('division', 0.7008097767829895),\n",
              " ('advancement', 0.6986432671546936),\n",
              " ('bachelor', 0.6963627934455872),\n",
              " ('astronautical', 0.6944034099578857)]"
            ]
          },
          "metadata": {},
          "execution_count": 16
        }
      ]
    },
    {
      "cell_type": "code",
      "source": [
        "w1='technology'\n",
        "Gensim_model.wv.most_similar(positive=w1,topn=4)"
      ],
      "metadata": {
        "colab": {
          "base_uri": "https://localhost:8080/"
        },
        "id": "o0-iSFfwuRpM",
        "outputId": "95bb5d26-7bf8-4ab0-ff58-b68fab3b3715"
      },
      "execution_count": null,
      "outputs": [
        {
          "output_type": "execute_result",
          "data": {
            "text/plain": [
              "[('aerospace', 0.8437926173210144),\n",
              " ('marketing', 0.7785007357597351),\n",
              " ('transportation', 0.7733446955680847),\n",
              " ('administration', 0.7608449459075928)]"
            ]
          },
          "metadata": {},
          "execution_count": 17
        }
      ]
    },
    {
      "cell_type": "code",
      "source": [
        "Gensim_model.wv.get_vector('science')"
      ],
      "metadata": {
        "colab": {
          "base_uri": "https://localhost:8080/"
        },
        "id": "DselQrGTuea1",
        "outputId": "04cc6e99-d710-4a0a-e0b4-cf9afa54bef2"
      },
      "execution_count": null,
      "outputs": [
        {
          "output_type": "execute_result",
          "data": {
            "text/plain": [
              "array([-0.4437847 ,  0.10570253,  0.18103418,  0.37861255, -0.45923668,\n",
              "        0.31392658,  0.3181613 ,  0.32678303, -0.0749656 , -0.45862103,\n",
              "       -0.5658499 ,  0.13764642, -0.79453087,  0.27018952, -0.04286365,\n",
              "        0.82968897,  1.3496867 ,  0.7611589 , -0.48415688, -0.52067834,\n",
              "       -0.61840653,  0.767492  ,  0.6603273 ,  0.11469961,  0.19282089,\n",
              "        0.26738393,  0.00806295, -0.774899  , -0.5350636 ,  0.02775862,\n",
              "        0.25840202,  0.29144746, -0.06131092,  0.3973377 ,  0.26408085,\n",
              "        0.10315035, -0.2680168 , -0.23911966, -0.05574455, -0.10741802,\n",
              "        0.19677609, -0.17266019,  0.26986033,  0.3470933 ,  0.21937953,\n",
              "       -0.29072917,  0.32798764,  0.05832859,  0.48227578,  0.05779702],\n",
              "      dtype=float32)"
            ]
          },
          "metadata": {},
          "execution_count": 18
        }
      ]
    },
    {
      "cell_type": "code",
      "source": [
        "Gensim_model.wv.most_similar('Gastroenteritis')"
      ],
      "metadata": {
        "id": "Kd9Bc-VKorgN"
      },
      "execution_count": null,
      "outputs": []
    },
    {
      "cell_type": "code",
      "source": [
        "from gensim.models import FastText\n",
        "model_fast = FastText(tokens, vector_size=100, window=5, min_count=5, workers=4,sg=1) # religion, space and graphics"
      ],
      "metadata": {
        "id": "0GayZBYfum3C"
      },
      "execution_count": null,
      "outputs": []
    },
    {
      "cell_type": "code",
      "source": [
        "model_fast.wv.most_similar(\"Gastroenteritis\")"
      ],
      "metadata": {
        "colab": {
          "base_uri": "https://localhost:8080/"
        },
        "id": "2wcnQbvTvIgQ",
        "outputId": "f98b15a0-5942-49af-b6f5-8441b92a5ced"
      },
      "execution_count": null,
      "outputs": [
        {
          "output_type": "execute_result",
          "data": {
            "text/plain": [
              "[('amateur', 0.9519757628440857),\n",
              " ('industrial', 0.9359416365623474),\n",
              " ('chemistry', 0.935250997543335),\n",
              " ('auxiliary', 0.9334954619407654),\n",
              " ('isotropic', 0.9304940104484558),\n",
              " ('category', 0.9288355112075806),\n",
              " ('activists', 0.9268349409103394),\n",
              " ('territory', 0.9260854125022888),\n",
              " ('pacastro', 0.9248908162117004),\n",
              " ('civilian', 0.9247483611106873)]"
            ]
          },
          "metadata": {},
          "execution_count": 21
        }
      ]
    },
    {
      "cell_type": "code",
      "source": [
        "?model_fast.wv.most_similar"
      ],
      "metadata": {
        "id": "gdYRyQRtlXUK"
      },
      "execution_count": null,
      "outputs": []
    },
    {
      "cell_type": "code",
      "source": [
        "from gensim.models import FastText\n",
        "?FastText()"
      ],
      "metadata": {
        "colab": {
          "base_uri": "https://localhost:8080/"
        },
        "id": "HknwIzLH7Eo5",
        "outputId": "1e76df8e-b8cc-4a9f-b7fd-81f4ceff4db3"
      },
      "execution_count": null,
      "outputs": [
        {
          "output_type": "stream",
          "name": "stdout",
          "text": [
            "Object `FastText()` not found.\n"
          ]
        }
      ]
    },
    {
      "cell_type": "code",
      "source": [],
      "metadata": {
        "id": "TOQVPQPKEcUw"
      },
      "execution_count": null,
      "outputs": []
    }
  ]
}